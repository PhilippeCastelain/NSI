{
 "cells": [
  {
   "source": [
    "# Activité 1 : conversions"
   ],
   "cell_type": "markdown",
   "metadata": {}
  },
  {
   "cell_type": "markdown",
   "metadata": {},
   "source": [
    "**Exercice 1**\n",
    "\n",
    "Convertir le nombre en écriture décimale :\n",
    "\n",
    "1. 100111<sub>2</sub>\n",
    "2. 11001001<sub>2</sub>\n",
    "3. 1000000000<sub>2</sub>"
   ]
  },
  {
   "cell_type": "markdown",
   "metadata": {},
   "source": [
    "Vérifier les résultats en utilisant la fonction Python <code>int</code>.\n",
    "\n",
    "Par exemple <code>int(0b101)</code> renvoie 5 (le préfixe 0b désigne un nombre en écriture binaire)."
   ]
  },
  {
   "cell_type": "code",
   "execution_count": null,
   "metadata": {},
   "outputs": [],
   "source": []
  },
  {
   "source": [
    "**Exercice 2**\n",
    "\n",
    "Convertir le nombre en écriture décimale :\n",
    "\n",
    "1. F5<sub>16</sub>\n",
    "2. A2E<sub>16</sub>\n",
    "3. 35<sub>16</sub>"
   ],
   "cell_type": "markdown",
   "metadata": {}
  },
  {
   "source": [
    "Vérifier les résultats en utilisant la fonction Python <code>int</code>.\n",
    "\n",
    "Par exemple <code>int(0xA)</code> renvoie 10 (le préfixe 0x désigne un nombre en écriture hexadécimale)."
   ],
   "cell_type": "markdown",
   "metadata": {}
  },
  {
   "cell_type": "code",
   "execution_count": null,
   "metadata": {},
   "outputs": [],
   "source": []
  },
  {
   "source": [
    "**Exercice 3**\n",
    "\n",
    "Convertir le nombre en écriture binaire : \n",
    "\n",
    "1. E7<sub>16</sub>\n",
    "2. 7DA<sub>16</sub>\n",
    "3. FF<sub>16</sub>"
   ],
   "cell_type": "markdown",
   "metadata": {}
  },
  {
   "source": [
    "Vérifier les résultats en utilisant la fonction Python <code>bin</code>."
   ],
   "cell_type": "markdown",
   "metadata": {}
  },
  {
   "cell_type": "code",
   "execution_count": null,
   "metadata": {},
   "outputs": [],
   "source": []
  },
  {
   "source": [
    "**Exercice 4**\n",
    "\n",
    "Convertir le nombre en écriture hexadécimale : \n",
    "\n",
    "1. 11010011<sub>2</sub>\n",
    "2. 1111101<sub>2</sub>\n",
    "3. 1000111110<sub>2</sub>"
   ],
   "cell_type": "markdown",
   "metadata": {}
  },
  {
   "source": [
    "Vérifier les résultats en utilisant la fonction Python <code>hex</code>."
   ],
   "cell_type": "markdown",
   "metadata": {}
  },
  {
   "cell_type": "code",
   "execution_count": null,
   "metadata": {},
   "outputs": [],
   "source": []
  },
  {
   "source": [
    "**Exercice 5**\n",
    "\n",
    "Convertir le nombre en écriture binaire : \n",
    "\n",
    "1. 97\n",
    "2. 368\n",
    "3. 1024\n",
    "4. 2049"
   ],
   "cell_type": "markdown",
   "metadata": {}
  },
  {
   "source": [
    "Vérifier les résultats en utilisant une fonction Python."
   ],
   "cell_type": "markdown",
   "metadata": {}
  },
  {
   "cell_type": "code",
   "execution_count": null,
   "metadata": {},
   "outputs": [],
   "source": []
  },
  {
   "source": [
    "**Exercice 5**\n",
    "\n",
    "Convertir le nombre en écriture hexadécimale : \n",
    "\n",
    "1. 101\n",
    "2. 511"
   ],
   "cell_type": "markdown",
   "metadata": {}
  },
  {
   "source": [
    "Vérifier les résultats en utilisant une fonction Python."
   ],
   "cell_type": "markdown",
   "metadata": {}
  },
  {
   "cell_type": "code",
   "execution_count": null,
   "metadata": {},
   "outputs": [],
   "source": []
  }
 ],
 "metadata": {
  "kernelspec": {
   "display_name": "Python 3",
   "language": "python",
   "name": "python3"
  },
  "language_info": {
   "codemirror_mode": {
    "name": "ipython",
    "version": 3
   },
   "file_extension": ".py",
   "mimetype": "text/x-python",
   "name": "python",
   "nbconvert_exporter": "python",
   "pygments_lexer": "ipython3",
   "version": "3.8.5-final"
  }
 },
 "nbformat": 4,
 "nbformat_minor": 4
}