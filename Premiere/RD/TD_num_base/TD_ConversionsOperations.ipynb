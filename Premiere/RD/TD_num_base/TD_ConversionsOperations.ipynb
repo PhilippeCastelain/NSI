{
 "cells": [
  {
   "cell_type": "markdown",
   "metadata": {},
   "source": [
    "### Exercice 1\n",
    "Convertir le nombre en écriture décimale :\n",
    "\n",
    "1. 100111<sub>2</sub>\n",
    "2. 11001001<sub>2</sub>\n",
    "3. 1000000000<sub>2</sub>"
   ]
  },
  {
   "cell_type": "markdown",
   "metadata": {},
   "source": [
    "Vérifier les résultats en utilisant la fonction Python <code>int</code>.\n",
    "\n",
    "Par exemple <code>int(0b101)</code> renvoie 5 (le préfixe 0b désigne un nombre en écriture binaire)."
   ]
  },
  {
   "cell_type": "code",
   "execution_count": null,
   "metadata": {},
   "outputs": [],
   "source": []
  },
  {
   "source": [
    "### Exercice 2\n",
    "Convertir le nombre en écriture décimale :\n",
    "\n",
    "1. F5<sub>16</sub>\n",
    "2. A2E<sub>16</sub>\n",
    "3. 35<sub>16</sub>"
   ],
   "cell_type": "markdown",
   "metadata": {}
  },
  {
   "source": [
    "Vérifier les résultats en utilisant la fonction Python <code>int</code>.\n",
    "\n",
    "Par exemple <code>int(0xA)</code> renvoie 10 (le préfixe 0x désigne un nombre en écriture hexadécimale)."
   ],
   "cell_type": "markdown",
   "metadata": {}
  },
  {
   "cell_type": "code",
   "execution_count": null,
   "metadata": {},
   "outputs": [],
   "source": []
  }
 ],
 "metadata": {
  "kernelspec": {
   "display_name": "Python 3",
   "language": "python",
   "name": "python3"
  },
  "language_info": {
   "codemirror_mode": {
    "name": "ipython",
    "version": 3
   },
   "file_extension": ".py",
   "mimetype": "text/x-python",
   "name": "python",
   "nbconvert_exporter": "python",
   "pygments_lexer": "ipython3",
   "version": "3.8.5-final"
  }
 },
 "nbformat": 4,
 "nbformat_minor": 4
}