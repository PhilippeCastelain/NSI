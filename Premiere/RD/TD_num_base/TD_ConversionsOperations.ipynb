{
 "cells": [
  {
   "source": [
    "# Conversions"
   ],
   "cell_type": "markdown",
   "metadata": {}
  },
  {
   "cell_type": "markdown",
   "metadata": {},
   "source": [
    "**Exercice 1**\n",
    "\n",
    "Convertir les nombres en écriture décimale :\n",
    "\n",
    "1. 100111<sub>2</sub>\n",
    "2. 11001001<sub>2</sub>\n",
    "3. 1000000000<sub>2</sub>"
   ]
  },
  {
   "cell_type": "markdown",
   "metadata": {},
   "source": [
    "Vérifier les résultats en utilisant la fonction Python <code>int</code>.\n",
    "\n",
    "Par exemple <code>int(0b101)</code> renvoie 5 (le préfixe 0b désigne un nombre en écriture binaire)."
   ]
  },
  {
   "cell_type": "code",
   "execution_count": null,
   "metadata": {},
   "outputs": [],
   "source": []
  },
  {
   "source": [
    "**Exercice 2**\n",
    "\n",
    "Convertir les nombres en écriture décimale :\n",
    "\n",
    "1. F5<sub>16</sub>\n",
    "2. A2E<sub>16</sub>\n",
    "3. 35<sub>16</sub>"
   ],
   "cell_type": "markdown",
   "metadata": {}
  },
  {
   "source": [
    "Vérifier les résultats en utilisant la fonction Python <code>int</code>.\n",
    "\n",
    "Par exemple <code>int(0xA)</code> renvoie 10 (le préfixe 0x désigne un nombre en écriture hexadécimale)."
   ],
   "cell_type": "markdown",
   "metadata": {}
  },
  {
   "cell_type": "code",
   "execution_count": null,
   "metadata": {},
   "outputs": [],
   "source": []
  },
  {
   "source": [
    "**Exercice 3**\n",
    "\n",
    "Convertir les nombres en écriture binaire : \n",
    "\n",
    "1. E7<sub>16</sub>\n",
    "2. 7DA<sub>16</sub>\n",
    "3. FF<sub>16</sub>"
   ],
   "cell_type": "markdown",
   "metadata": {}
  },
  {
   "source": [
    "Vérifier les résultats en utilisant la fonction Python <code>bin</code>."
   ],
   "cell_type": "markdown",
   "metadata": {}
  },
  {
   "cell_type": "code",
   "execution_count": null,
   "metadata": {},
   "outputs": [],
   "source": []
  },
  {
   "source": [
    "**Exercice 4**\n",
    "\n",
    "Convertir les nombres en écriture hexadécimale : \n",
    "\n",
    "1. 11010011<sub>2</sub>\n",
    "2. 1111101<sub>2</sub>\n",
    "3. 1000111110<sub>2</sub>"
   ],
   "cell_type": "markdown",
   "metadata": {}
  },
  {
   "source": [
    "Vérifier les résultats en utilisant la fonction Python <code>hex</code>."
   ],
   "cell_type": "markdown",
   "metadata": {}
  },
  {
   "cell_type": "code",
   "execution_count": null,
   "metadata": {},
   "outputs": [],
   "source": []
  },
  {
   "source": [
    "**Exercice 5**\n",
    "\n",
    "Convertir les nombres en écriture binaire : \n",
    "\n",
    "1. 97\n",
    "2. 368\n",
    "3. 1024\n",
    "4. 2049"
   ],
   "cell_type": "markdown",
   "metadata": {}
  },
  {
   "source": [
    "Vérifier les résultats en utilisant une fonction Python."
   ],
   "cell_type": "markdown",
   "metadata": {}
  },
  {
   "cell_type": "code",
   "execution_count": null,
   "metadata": {},
   "outputs": [],
   "source": []
  },
  {
   "source": [
    "**Exercice 5**\n",
    "\n",
    "Convertir les nombres en écriture hexadécimale : \n",
    "\n",
    "1. 101\n",
    "2. 511"
   ],
   "cell_type": "markdown",
   "metadata": {}
  },
  {
   "source": [
    "Vérifier les résultats en utilisant une fonction Python."
   ],
   "cell_type": "markdown",
   "metadata": {}
  },
  {
   "cell_type": "code",
   "execution_count": null,
   "metadata": {},
   "outputs": [],
   "source": []
  },
  {
   "source": [
    "**Exercice 6**\n",
    "\n",
    "On considère les nombres dont l'écriture en base 16 (en hexadécimal) sont de la forme suivante : un 1 suivi de 0 en nombre quelconque, comme 1, 10, 100, 1000 etc.\n",
    "\n",
    "Tous ces nombres sont exactement :\n",
    "\n",
    "Réponses:\n",
    "\n",
    "1. les puissances de 2\n",
    "2. les puissances de 8\n",
    "3. les puissances de 10\n",
    "4. les puissances de 16"
   ],
   "cell_type": "markdown",
   "metadata": {}
  },
  {
   "source": [
    "# Arithmétique en base 2 et 16"
   ],
   "cell_type": "markdown",
   "metadata": {}
  },
  {
   "source": [
    "**Exercice 1**\n",
    "\n",
    "Poser et effectuer les additions :\n",
    "\n",
    "1. 110110<sub>2</sub> + 111<sub>2</sub>\n",
    "2. 11111011<sub>2</sub> + 1111000<sub>2</sub>\n",
    "3. 1011<sub>2</sub> + 1000011<sub>2</sub>\n",
    "4. A7<sub>16</sub> + 84<sub>16</sub>\n",
    "5. 1B2<sub>2</sub> + C1E<sub>2</sub>"
   ],
   "cell_type": "markdown",
   "metadata": {}
  },
  {
   "source": [
    "**Exercice 2**\n",
    "\n",
    "Poser et effectuer les soustractions :\n",
    "\n",
    "1. 110110<sub>2</sub> - 110<sub>2</sub>\n",
    "2. 11111011<sub>2</sub> - 1111100<sub>2</sub>\n",
    "3. 100000<sub>2</sub> - 10011<sub>2</sub>\n",
    "4. C7E<sub>16</sub> - 5A3<sub>16</sub>\n",
    "5. CBD<sub>16</sub> - BAC<sub>16</sub>"
   ],
   "cell_type": "markdown",
   "metadata": {}
  },
  {
   "source": [
    "Vérifier les résultats des exercices 1 et 2 en utilisant Python."
   ],
   "cell_type": "markdown",
   "metadata": {}
  },
  {
   "cell_type": "code",
   "execution_count": null,
   "metadata": {},
   "outputs": [],
   "source": []
  },
  {
   "source": [
    "**Exercice 3**\n",
    "\n",
    "Poser et effectuer les multiplications :\n",
    "\n",
    "1. 101<sub>2</sub> x 11<sub>2</sub>\n",
    "2. 11010<sub>2</sub> x 101<sub>2</sub>\n",
    "3. 12<sub>16</sub> x 27<sub>16</sub>\n",
    "4. AB<sub>16</sub> x 10<sub>16</sub>"
   ],
   "cell_type": "markdown",
   "metadata": {}
  },
  {
   "source": [
    "Vérifier les résultats en utilisant Python."
   ],
   "cell_type": "markdown",
   "metadata": {}
  },
  {
   "cell_type": "code",
   "execution_count": null,
   "metadata": {},
   "outputs": [],
   "source": []
  },
  {
   "source": [
    "**Exercice 4**\n",
    "\n",
    "En ajoutant trois chiffres 0 à droite de l'écriture binaire d'un entier n strictement positif, on obtient l'écriture binaire de :\n",
    "\n",
    "Réponses :\n",
    "\n",
    "1. 6 x n\n",
    "2. 8 x n\n",
    "3. 1000 x 𝑁\n",
    "4. aucune des réponses précédentes"
   ],
   "cell_type": "markdown",
   "metadata": {}
  },
  {
   "source": [
    "**Exercice 5**\n",
    "\n",
    "Poser et effectuer les divisions euclidiennes :\n",
    "\n",
    "1. 111011<sub>2</sub> par 10<sub>2</sub>\n",
    "2. 101110<sub>2</sub> par 11<sub>2</sub>"
   ],
   "cell_type": "markdown",
   "metadata": {}
  },
  {
   "source": [
    "Vérifier les résultats en utilisant les fonctions Python `//` qui renvoie le quotient d'une division euclidienne et `%` qui renvoie le reste. Par exemple :\n",
    "\n",
    "1. `19 // 2` renvoie `9`\n",
    "2. `19 % 2` renvoie `1` "
   ],
   "cell_type": "markdown",
   "metadata": {}
  },
  {
   "cell_type": "code",
   "execution_count": null,
   "metadata": {},
   "outputs": [],
   "source": []
  },
  {
   "source": [
    "# Codage des entiers non signés"
   ],
   "cell_type": "markdown",
   "metadata": {}
  },
  {
   "source": [
    "**Exercice 1**\n",
    "\n",
    "Pour chaque valeur de n indiquer le nombre d'entiers non signés que l'on peut coder ainsi que la plus petite valeur et la plus grande.\n",
    "\n",
    "1. n = 16\n",
    "2. n = 32\n",
    "3. n = 64"
   ],
   "cell_type": "markdown",
   "metadata": {}
  },
  {
   "source": [
    "**Exercice 2**\n",
    "\n",
    "1. Combien de bits doit-on utiliser au minimum pour représenter en base 2 le nombre entier 72 ?\n",
    "2. Quel est l’entier positif codé en base 2 sur 8 bits dont le code est 00101010<sub>2</sub> ?\n",
    "3. Quel est le nombre maximal de bits du produit de deux entiers non signés codés sur 8 bits ? Expliquer."
   ],
   "cell_type": "markdown",
   "metadata": {}
  },
  {
   "source": [
    "**Exercice 3**\n",
    "\n",
    "On s’intéresse à des entiers non signés codéss sur 4 bits. Que se passe-t-il lorsque l’on effectue les opérations suivantes ?\n",
    "\n",
    "1. 1011+1000\n",
    "2. 0011×0110\n",
    "3. 0101-0110"
   ],
   "cell_type": "markdown",
   "metadata": {}
  },
  {
   "source": [
    "**Exercice 4**\n",
    "\n",
    "1. Donner un ordre de grandeur du nombre de bits contenus dans un fichier MP3 (∼ 3 Mo).\n",
    "2. Quelle est la capacité en bits d’un DVD (∼ 4,7 Go) "
   ],
   "cell_type": "markdown",
   "metadata": {}
  },
  {
   "source": [
    "**Exercice 5**\n",
    "\n",
    "Quelle est la valeur affichée après l'exécution du programme suivant ?\n",
    "<pre>\n",
    "x=1\n",
    "for i in range(10):\n",
    "    x=x*2\n",
    "print(x)`\n",
    "</pre>\n"
   ],
   "cell_type": "markdown",
   "metadata": {}
  },
  {
   "source": [
    "**Exercice 6**\n",
    "\n",
    "Dans l’algorithme ci-dessous, qui prend en entrée un entier naturel non nul et renvoie une chaine de caractère représentant son écriture binaire, remplacer les pointillés par l’opérateur (`//`ou `+`ou `*`ou `%`) qui convient.\n",
    "<pre>\n",
    "`def cascade(n):\n",
    "    chiffres = ''\n",
    "    while n != 0:\n",
    "        chiffres = str(n ... 2) + chiffres\n",
    "        n = n //2\n",
    "    return chiffres`\n",
    "</pre>"
   ],
   "cell_type": "markdown",
   "metadata": {}
  }
 ],
 "metadata": {
  "kernelspec": {
   "display_name": "Python 3",
   "language": "python",
   "name": "python3"
  },
  "language_info": {
   "codemirror_mode": {
    "name": "ipython",
    "version": 3
   },
   "file_extension": ".py",
   "mimetype": "text/x-python",
   "name": "python",
   "nbconvert_exporter": "python",
   "pygments_lexer": "ipython3",
   "version": "3.8.5-final"
  }
 },
 "nbformat": 4,
 "nbformat_minor": 4
}