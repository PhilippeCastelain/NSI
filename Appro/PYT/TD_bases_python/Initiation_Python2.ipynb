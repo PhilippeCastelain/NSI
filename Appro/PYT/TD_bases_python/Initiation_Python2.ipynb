{
 "cells": [
  {
   "cell_type": "markdown",
   "metadata": {},
   "source": [
    "# Programmation Python épisode 2\n",
    "\n",
    "## Les instructions conditionnelles\n",
    "\n",
    "Dans une suite d'instructions on est souvent amené à faire des choix.\n",
    "\n",
    "**Si** une ou plusieurs conditions sont réalisées **Alors** on exécute une ou plusieurs instructions\n",
    "\n",
    "\n",
    "La structure en Python : on indente les instructions (on parle alors d'un **bloc** d'instructions) qui doivent s'exécuter si la condition est vérifiée.\n",
    "<pre><code>\n",
    "if condition(s):\n",
    "    instruction1\n",
    "    instruction2\n",
    "</code></pre>\n",
    "\n",
    "**Voici un exemple qui affiche si les variables a et b sont des entiers pairs.**"
   ]
  },
  {
   "cell_type": "code",
   "execution_count": null,
   "metadata": {},
   "outputs": [],
   "source": [
    "a = 12\n",
    "if a % 2 == 0:\n",
    "    print(a, \" est un entier pair\")\n",
    "    \n",
    "b = 13\n",
    "if b % 2 == 0:\n",
    "    print(b,\" est un entier pair\")"
   ]
  },
  {
   "cell_type": "markdown",
   "metadata": {},
   "source": [
    "**Si.............Sinon.....**\n",
    "\n",
    "<pre><code>\n",
    "    if condition(s):\n",
    "        instruction1\n",
    "        instruction2\n",
    "    else:\n",
    "        instruction3\n",
    "        instruvtion4\n",
    "</code></pre>\n",
    " \n",
    " Dans cette structure, si la ou les conditions sont vraies, les instructions 1 et 2 sont exécutées.\n",
    " Sinon ce sont les instructions 3 et 4 qui sont exécutées.\n",
    " \n",
    " **Voici un exemple :**"
   ]
  },
  {
   "cell_type": "code",
   "execution_count": null,
   "metadata": {},
   "outputs": [],
   "source": [
    "a = 12\n",
    "\n",
    "if a % 2 == 0:\n",
    "    print(a, \" est un entier pair\")\n",
    "else:\n",
    "    print(a,\" est un entier impair\")"
   ]
  },
  {
   "cell_type": "markdown",
   "metadata": {},
   "source": [
    "**Si.......SinonSi......SinonSi........Sinon**\n",
    "\n",
    "<pre><code>\n",
    "    if condition1:\n",
    "        bloc1\n",
    "    elif condition2:\n",
    "        bloc2\n",
    "    elif condition3:\n",
    "        bloc3\n",
    "    else:\n",
    "        bloc4\n",
    "</code></pre>\n",
    "\n",
    "Dans cette structure on teste plusieurs conditions.\n",
    "\n",
    "**Voici un exemple** (utilisant la bibliothèque `matplotlib`) :"
   ]
  },
  {
   "cell_type": "code",
   "execution_count": null,
   "metadata": {},
   "outputs": [],
   "source": [
    "%matplotlib notebook\n",
    "import matplotlib.pyplot as plt\n",
    "\n",
    "def onclick(event):\n",
    "    if event.xdata < -0.25:\n",
    "        circle.set_facecolor('green')\n",
    "    elif event.xdata > -0.25 and event.xdata < 0.25:\n",
    "        circle.set_facecolor('yellow')\n",
    "    else:\n",
    "        circle.set_facecolor('red')\n",
    "\n",
    "fig, ax = plt.subplots()\n",
    "circle = plt.Circle((0, 0), radius=0.5, fc='black')\n",
    "ax.add_patch(circle)\n",
    "ax.set_xlim(-0.75,0.75)\n",
    "ax.set_ylim(-0.75,0.75)\n",
    "ax.set_aspect(1)\n",
    "    \n",
    "cid = fig.canvas.mpl_connect('button_press_event', onclick)\n"
   ]
  },
  {
   "cell_type": "markdown",
   "metadata": {},
   "source": [
    "### Exercice 1\n",
    "\n",
    "Modifier le code dans la cellule suivante de la fonction `onclick` pour qu'il y ait 4 couleurs différentes en fonction de l'abscisse de la souris.\n",
    "\n",
    "C'est la fonction `onclick` qui récupère les différentes données relatives au click de la souris par l'intermédiaire du paramtre `event`.\n",
    "\n",
    "On veut la configuration suivante :\n",
    "- $x<-0.375$ : **blue**;\n",
    "- $-0.375<x<0$ : **green**;\n",
    "- $0<x<0.375$ : **yellow**;\n",
    "- $x>0.375$ : **red**.\n",
    "\n",
    "$x$ est égale à l'abscisse de la souris au moment du click (dans notre programme c'est la variable `event.xdata`)."
   ]
  },
  {
   "cell_type": "code",
   "execution_count": null,
   "metadata": {},
   "outputs": [],
   "source": [
    "%matplotlib notebook\n",
    "import matplotlib.pyplot as plt\n",
    "\n",
    "def onclick(event):\n",
    "    if event.xdata < -0.25:\n",
    "        circle.set_facecolor('green')\n",
    "    elif event.xdata > -0.25 and event.xdata < 0.25:\n",
    "        circle.set_facecolor('yellow')\n",
    "    else:\n",
    "        circle.set_facecolor('red')\n",
    "\n",
    "fig, ax = plt.subplots()\n",
    "circle = plt.Circle((0, 0), radius=0.5, fc='black')\n",
    "ax.add_patch(circle)\n",
    "ax.set_xlim(-0.75,0.75)\n",
    "ax.set_ylim(-0.75,0.75)\n",
    "ax.set_aspect(1)\n",
    "    \n",
    "cid = fig.canvas.mpl_connect('button_press_event', onclick)\n"
   ]
  },
  {
   "cell_type": "markdown",
   "metadata": {},
   "source": [
    "### Exercice 2\n",
    "\n",
    "Reprendre le code précédent et faire en sorte qu'il y ait 4 couleurs différentes qui s'affichent suivant la position de la souris dans les quadrants:\n",
    "\n",
    "On veut la configuration suivante :\n",
    "- $x<0$ et $y>0$ : **blue**;\n",
    "- $x>0$ et $y>0$ : **green**;\n",
    "- $x<0$ et $y<0$ : **yellow**;\n",
    "- $x>0$ et $y<0$ : **red**.\n",
    "\n",
    "Comme précédemment $x$ correspond à `event.xdata` et $y$ à `event.ydata`. "
   ]
  },
  {
   "cell_type": "code",
   "execution_count": null,
   "metadata": {},
   "outputs": [],
   "source": [
    "# code ici"
   ]
  },
  {
   "cell_type": "markdown",
   "metadata": {},
   "source": [
    "### Exercice 3\n",
    "\n",
    "Dans le code suivant on affiche dans la fenêtre 4 cercles et la couleur de fond change si on clique sur l'un des cercles.\n",
    "\n",
    "l'instruction `distance(x1,y1,x2,y2)` calcule la distance entre les points de coordonnées (x1,y1) et (x2,y2).\n",
    "\n",
    "`distance(event.xdata, event.ydata, -0.4, -0.4) < 0.2` teste si on a cliqué dans le cercle de centre (-0,4 ; -0,4) et de rayon 0,2.\n",
    "\n",
    "***Faire en sorte que le fond change de couleur lorsque l'on clique des 4 cercles.***"
   ]
  },
  {
   "cell_type": "code",
   "execution_count": null,
   "metadata": {},
   "outputs": [],
   "source": [
    "%matplotlib notebook\n",
    "import matplotlib.pyplot as plt\n",
    "from math import sqrt\n",
    "\n",
    "def distance(x1,y1,x2,y2):\n",
    "    return sqrt((x2 - x1)**2 + (y2 - y1)**2)\n",
    "\n",
    "def onclick(event):\n",
    "    if distance(event.xdata, event.ydata, -0.4, -0.4) < 0.2:\n",
    "        ax.set_facecolor('blue')\n",
    "    else:\n",
    "        ax.set_facecolor('white')\n",
    "        \n",
    "fig, ax = plt.subplots()\n",
    "ax.add_patch(plt.Circle((-0.4, 0.4), radius=0.2, fc='black'))\n",
    "ax.add_patch(plt.Circle((-0.4, -0.4), radius=0.2, fc='black'))\n",
    "ax.add_patch(plt.Circle((0.4, 0.4), radius=0.2, fc='black'))\n",
    "ax.add_patch(plt.Circle((0.4, -0.4), radius=0.2, fc='black'))\n",
    "ax.set_xlim(-0.75,0.75)\n",
    "ax.set_ylim(-0.75,0.75)\n",
    "ax.set_aspect(1)\n",
    "\n",
    "cid = fig.canvas.mpl_connect('button_press_event', onclick)"
   ]
  },
  {
   "cell_type": "markdown",
   "metadata": {},
   "source": [
    "### Exercice 4\n",
    "\n",
    "le code ci-dessous montre \"une balle\" se déplaçant sur un axe horizontal dans une fenêtre en rebondissant sur les bords.\n",
    "\n",
    "***Modifier le code afin qu'elle se déplace sur un axe vertical en rebondissant sur les bords inférieur et supérieur de la fenêtre.***\n"
   ]
  },
  {
   "cell_type": "code",
   "execution_count": null,
   "metadata": {
    "scrolled": true
   },
   "outputs": [],
   "source": [
    "%matplotlib notebook\n",
    "from matplotlib import pyplot as plt\n",
    "from matplotlib import animation\n",
    "\n",
    "fig = plt.figure()\n",
    "fig.set_size_inches(7, 6.5)\n",
    "\n",
    "ax = plt.axes(xlim=(0, 5), ylim=(0, 5))\n",
    "patch = plt.Circle((5, -5), 0.5, fc='y')\n",
    "\n",
    "def init():\n",
    "    global dep\n",
    "    dep = 0.01\n",
    "    patch.center = (0, 2.5)\n",
    "    ax.add_patch(patch)\n",
    "    return patch,\n",
    "\n",
    "def animate(i):\n",
    "    global dep\n",
    "    left, right = 0, 5\n",
    "    x, y = patch.center\n",
    "    x = x + dep\n",
    "    if x < left or x > right:\n",
    "        dep = -dep\n",
    "    patch.center = (x, y)\n",
    "    return patch,\n",
    "\n",
    "anim = animation.FuncAnimation(fig, animate, \n",
    "                               init_func=init, \n",
    "                               frames=1000, \n",
    "                               interval=20,\n",
    "                               blit=True)\n"
   ]
  },
  {
   "cell_type": "markdown",
   "metadata": {},
   "source": [
    "### Exercice 5\n",
    "\n",
    "***Reprendre le code précédent et faire en sorte que la \"balle\" change de couleur à chaque rebond***\n",
    "\n",
    "Pour utiliser une couleur aléatoire, on pourra utiliser l'instruction:\n",
    "\n",
    "`patch.set_facecolor((uniform(0,1),uniform(0,1),uniform(0,1)))`"
   ]
  },
  {
   "cell_type": "code",
   "execution_count": null,
   "metadata": {},
   "outputs": [],
   "source": [
    "%matplotlib notebook\n",
    "from matplotlib import pyplot as plt\n",
    "from matplotlib import animation\n",
    "from random import uniform\n",
    "\n",
    "# le code ici"
   ]
  }
 ],
 "metadata": {
  "kernelspec": {
   "display_name": "Python 3",
   "language": "python",
   "name": "python3"
  },
  "language_info": {
   "codemirror_mode": {
    "name": "ipython",
    "version": 3
   },
   "file_extension": ".py",
   "mimetype": "text/x-python",
   "name": "python",
   "nbconvert_exporter": "python",
   "pygments_lexer": "ipython3",
   "version": "3.8.5"
  }
 },
 "nbformat": 4,
 "nbformat_minor": 2
}
