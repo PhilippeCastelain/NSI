{
 "cells": [
  {
   "cell_type": "markdown",
   "metadata": {},
   "source": [
    "# Programmation Python épisode 2\n",
    "\n",
    "## Les instructions conditionnelles\n",
    "\n",
    "Dans une suite d'instructions on est souvent amené à faire des choix.\n",
    "\n",
    "**Si** une ou plusieurs conditions sont réalisées **Alors** on exécute une ou plusieurs instructions\n",
    "\n",
    "\n",
    "La structure en Python : on indente (une tabulation) les instructions qui doivent s'exécuter si la condition est vérifiée\n",
    "\n",
    "<pre><code>\n",
    "if condition(s):\n",
    "    instruction1\n",
    "    instruction2\n",
    "</code></pre>\n",
    "\n",
    "**Voici un exemple qui affiche si les variables a et b sont des entiers pairs.**"
   ]
  },
  {
   "cell_type": "code",
   "execution_count": null,
   "metadata": {},
   "outputs": [],
   "source": [
    "a = 12\n",
    "if a % 2 == 0:\n",
    "    print(a, \" est un entier pair\")\n",
    "    \n",
    "b = 13\n",
    "if b % 2 == 0:\n",
    "    print(b,\" est un entier pair\")"
   ]
  },
  {
   "cell_type": "markdown",
   "metadata": {},
   "source": [
    "**Si.............Sinon.....**\n",
    "\n",
    "<pre><code>\n",
    "    if condition(s):\n",
    "        instruction1\n",
    "        instruction2\n",
    "    else:\n",
    "        instruction3\n",
    "</code></pre>\n",
    " \n",
    " Dans cette structure, si la ou les conditions sont vraies, les instructions 1 et 2 sont exécutées.\n",
    " Sinon c'est l'instruction3 qui est exécutée.\n",
    " \n",
    " **Voici un exemple :**"
   ]
  },
  {
   "cell_type": "code",
   "execution_count": null,
   "metadata": {},
   "outputs": [],
   "source": [
    "a = 12\n",
    "\n",
    "if a % 2 == 0:\n",
    "    print(a, \" est un entier pair\")\n",
    "else:\n",
    "    print(a,\" est un entier impair\")"
   ]
  },
  {
   "cell_type": "markdown",
   "metadata": {},
   "source": [
    "**Si.......SinonSi......SinonSi........Sinon**\n",
    "\n",
    "<pre><code>\n",
    "    if condition1:\n",
    "        instruction1\n",
    "    elif condition2:\n",
    "        instruction2\n",
    "        instruction3\n",
    "    elif condition3:\n",
    "        instruction4\n",
    "    else:\n",
    "        instruction5\n",
    "</code></pre>\n",
    "\n",
    "Dans cette structure on teste plusieurs conditions.\n",
    "\n",
    "**Voici un exemple** (utilisant la bibliothèque p5) :"
   ]
  },
  {
   "cell_type": "code",
   "execution_count": 1,
   "metadata": {
    "scrolled": true
   },
   "outputs": [
    {
     "ename": "ModuleNotFoundError",
     "evalue": "No module named 'processing'",
     "output_type": "error",
     "traceback": [
      "\u001b[1;31m---------------------------------------------------------------------------\u001b[0m",
      "\u001b[1;31mModuleNotFoundError\u001b[0m                       Traceback (most recent call last)",
      "\u001b[1;32m<ipython-input-1-23e04b14d003>\u001b[0m in \u001b[0;36m<module>\u001b[1;34m\u001b[0m\n\u001b[0;32m      3\u001b[0m position de la souris'''\n\u001b[0;32m      4\u001b[0m \u001b[1;33m\u001b[0m\u001b[0m\n\u001b[1;32m----> 5\u001b[1;33m \u001b[1;32mfrom\u001b[0m \u001b[0mprocessing\u001b[0m \u001b[1;32mimport\u001b[0m \u001b[1;33m*\u001b[0m\u001b[1;33m\u001b[0m\u001b[1;33m\u001b[0m\u001b[0m\n\u001b[0m\u001b[0;32m      6\u001b[0m \u001b[1;33m\u001b[0m\u001b[0m\n\u001b[0;32m      7\u001b[0m \u001b[1;32mdef\u001b[0m \u001b[0msetup\u001b[0m\u001b[1;33m(\u001b[0m\u001b[1;33m)\u001b[0m\u001b[1;33m:\u001b[0m\u001b[1;33m\u001b[0m\u001b[1;33m\u001b[0m\u001b[0m\n",
      "\u001b[1;31mModuleNotFoundError\u001b[0m: No module named 'processing'"
     ]
    }
   ],
   "source": [
    "''' Cet exemple illustre les conditions\n",
    "la couleur du fond d'écran de la fenêtre change en fonction de la\n",
    "position de la souris'''\n",
    "\n",
    "from p5 import *\n",
    "\n",
    "def setup():\n",
    "    createCanvas(200,200) # crée une fenêtre de 200 x 200 pixels\n",
    "\n",
    "def draw():# cette fonction s'exécute  en boucle 60 fois par seconde...\n",
    "    # les conditions pour la couleur du fond d'écran\n",
    "    if mouseX > 0 and mouseX < 100: # teste la position (abscisse) de la souris sur la moité gauche (0 à 100)\n",
    "        background(255,0,0) # fond rouge\n",
    "    elif mouseX > 100 and mouseX < 200:# teste la position (abscisse) de la souris sur la moité droite (100 à 200)\n",
    "        background(0,255,0) # fond vert\n",
    "    else:\n",
    "        background(0,0,255) # fond bleu\n",
    "run()"
   ]
  },
  {
   "cell_type": "markdown",
   "metadata": {},
   "source": [
    "### Exercice 1\n",
    "\n",
    "Modifier le code suivant pour qu'il y ait 4 couleurs différentes en fonction de la position (abscisse) de la souris.\n",
    "\n",
    "**mouseX** renvoie l'abscisse de la souris (0 pour le coin supérieur gauche de la fenêtre).\n",
    "\n",
    "( 0 à 50 , 50 à 100, 100 à 150 et 150 à 200)\n",
    "\n"
   ]
  },
  {
   "cell_type": "code",
   "execution_count": 2,
   "metadata": {},
   "outputs": [
    {
     "name": "stderr",
     "output_type": "stream",
     "text": [
      "WARNING: Traceback (most recent call last):\n",
      "  File \"C:\\Users\\philc\\Anaconda3\\lib\\runpy.py\", line 194, in _run_module_as_main\n",
      "    return _run_code(code, main_globals, None,\n",
      "  File \"C:\\Users\\philc\\Anaconda3\\lib\\runpy.py\", line 87, in _run_code\n",
      "    exec(code, run_globals)\n",
      "  File \"C:\\Users\\philc\\Anaconda3\\lib\\site-packages\\ipykernel_launcher.py\", line 16, in <module>\n",
      "    app.launch_new_instance()\n",
      "  File \"C:\\Users\\philc\\Anaconda3\\lib\\site-packages\\traitlets\\config\\application.py\", line 845, in launch_instance\n",
      "    app.start()\n",
      "  File \"C:\\Users\\philc\\Anaconda3\\lib\\site-packages\\ipykernel\\kernelapp.py\", line 612, in start\n",
      "    self.io_loop.start()\n",
      "  File \"C:\\Users\\philc\\Anaconda3\\lib\\site-packages\\tornado\\platform\\asyncio.py\", line 149, in start\n",
      "    self.asyncio_loop.run_forever()\n",
      "  File \"C:\\Users\\philc\\Anaconda3\\lib\\asyncio\\base_events.py\", line 570, in run_forever\n",
      "    self._run_once()\n",
      "  File \"C:\\Users\\philc\\Anaconda3\\lib\\asyncio\\base_events.py\", line 1859, in _run_once\n",
      "    handle._run()\n",
      "  File \"C:\\Users\\philc\\Anaconda3\\lib\\asyncio\\events.py\", line 81, in _run\n",
      "    self._context.run(self._callback, *self._args)\n",
      "  File \"C:\\Users\\philc\\Anaconda3\\lib\\site-packages\\tornado\\ioloop.py\", line 690, in <lambda>\n",
      "    lambda f: self._run_callback(functools.partial(callback, future))\n",
      "  File \"C:\\Users\\philc\\Anaconda3\\lib\\site-packages\\tornado\\ioloop.py\", line 743, in _run_callback\n",
      "    ret = callback()\n",
      "  File \"C:\\Users\\philc\\Anaconda3\\lib\\site-packages\\tornado\\gen.py\", line 787, in inner\n",
      "    self.run()\n",
      "  File \"C:\\Users\\philc\\Anaconda3\\lib\\site-packages\\tornado\\gen.py\", line 748, in run\n",
      "    yielded = self.gen.send(value)\n",
      "  File \"C:\\Users\\philc\\Anaconda3\\lib\\site-packages\\ipykernel\\kernelbase.py\", line 365, in process_one\n",
      "    yield gen.maybe_future(dispatch(*args))\n",
      "  File \"C:\\Users\\philc\\Anaconda3\\lib\\site-packages\\tornado\\gen.py\", line 209, in wrapper\n",
      "    yielded = next(result)\n",
      "  File \"C:\\Users\\philc\\Anaconda3\\lib\\site-packages\\ipykernel\\kernelbase.py\", line 268, in dispatch_shell\n",
      "    yield gen.maybe_future(handler(stream, idents, msg))\n",
      "  File \"C:\\Users\\philc\\Anaconda3\\lib\\site-packages\\tornado\\gen.py\", line 209, in wrapper\n",
      "    yielded = next(result)\n",
      "  File \"C:\\Users\\philc\\Anaconda3\\lib\\site-packages\\ipykernel\\kernelbase.py\", line 543, in execute_request\n",
      "    self.do_execute(\n",
      "  File \"C:\\Users\\philc\\Anaconda3\\lib\\site-packages\\tornado\\gen.py\", line 209, in wrapper\n",
      "    yielded = next(result)\n",
      "  File \"C:\\Users\\philc\\Anaconda3\\lib\\site-packages\\ipykernel\\ipkernel.py\", line 306, in do_execute\n",
      "    res = shell.run_cell(code, store_history=store_history, silent=silent)\n",
      "  File \"C:\\Users\\philc\\Anaconda3\\lib\\site-packages\\ipykernel\\zmqshell.py\", line 536, in run_cell\n",
      "    return super(ZMQInteractiveShell, self).run_cell(*args, **kwargs)\n",
      "  File \"C:\\Users\\philc\\Anaconda3\\lib\\site-packages\\IPython\\core\\interactiveshell.py\", line 2876, in run_cell\n",
      "    result = self._run_cell(\n",
      "  File \"C:\\Users\\philc\\Anaconda3\\lib\\site-packages\\IPython\\core\\interactiveshell.py\", line 2922, in _run_cell\n",
      "    return runner(coro)\n",
      "  File \"C:\\Users\\philc\\Anaconda3\\lib\\site-packages\\IPython\\core\\async_helpers.py\", line 68, in _pseudo_sync_runner\n",
      "    coro.send(None)\n",
      "  File \"C:\\Users\\philc\\Anaconda3\\lib\\site-packages\\IPython\\core\\interactiveshell.py\", line 3145, in run_cell_async\n",
      "    has_raised = await self.run_ast_nodes(code_ast.body, cell_name,\n",
      "  File \"C:\\Users\\philc\\Anaconda3\\lib\\site-packages\\IPython\\core\\interactiveshell.py\", line 3337, in run_ast_nodes\n",
      "    if (await self.run_code(code, result,  async_=asy)):\n",
      "  File \"C:\\Users\\philc\\Anaconda3\\lib\\site-packages\\IPython\\core\\interactiveshell.py\", line 3417, in run_code\n",
      "    exec(code_obj, self.user_global_ns, self.user_ns)\n",
      "  File \"<ipython-input-2-ea519f5232f5>\", line 14, in <module>\n",
      "    run()\n",
      "  File \"C:\\Users\\philc\\Anaconda3\\lib\\site-packages\\p5\\sketch\\userspace.py\", line 167, in run\n",
      "    exit()\n",
      "  File \"C:\\Users\\philc\\Anaconda3\\lib\\site-packages\\p5\\sketch\\userspace.py\", line 249, in exit\n",
      "    app.quit()\n",
      "  File \"C:\\Users\\philc\\Anaconda3\\lib\\site-packages\\vispy\\app\\_default_app.py\", line 69, in quit\n",
      "    return default_app.quit()\n",
      "  File \"C:\\Users\\philc\\Anaconda3\\lib\\site-packages\\vispy\\app\\application.py\", line 165, in quit\n",
      "    return self._backend._vispy_quit()\n",
      "  File \"C:\\Users\\philc\\Anaconda3\\lib\\site-packages\\vispy\\app\\backends\\_glfw.py\", line 202, in _vispy_quit\n",
      "    win._vispy_canvas.close()\n",
      "  File \"C:\\Users\\philc\\Anaconda3\\lib\\site-packages\\vispy\\app\\canvas.py\", line 456, in close\n",
      "    self.events.close()\n",
      "  File \"C:\\Users\\philc\\Anaconda3\\lib\\site-packages\\vispy\\util\\event.py\", line 455, in __call__\n",
      "    self._invoke_callback(cb, event)\n",
      "  File \"C:\\Users\\philc\\Anaconda3\\lib\\site-packages\\vispy\\util\\event.py\", line 473, in _invoke_callback\n",
      "    _handle_exception(self.ignore_callback_errors,\n",
      "  << caught exception here: >>\n",
      "  File \"C:\\Users\\philc\\Anaconda3\\lib\\site-packages\\vispy\\util\\event.py\", line 471, in _invoke_callback\n",
      "    cb(event)\n",
      "  File \"C:\\Users\\philc\\Anaconda3\\lib\\site-packages\\p5\\sketch\\base.py\", line 148, in on_close\n",
      "    exit()\n",
      "NameError: name 'exit' is not defined\n",
      "ERROR: Invoking <bound method Sketch.on_close of <Sketch (Glfw) at 0x1e73c039040>> for Event\n"
     ]
    },
    {
     "ename": "AttributeError",
     "evalue": "module 'p5.core.p5' has no attribute 'exit'",
     "output_type": "error",
     "traceback": [
      "\u001b[1;31m---------------------------------------------------------------------------\u001b[0m",
      "\u001b[1;31mAttributeError\u001b[0m                            Traceback (most recent call last)",
      "\u001b[1;32m<ipython-input-2-ea519f5232f5>\u001b[0m in \u001b[0;36m<module>\u001b[1;34m\u001b[0m\n\u001b[0;32m     12\u001b[0m     \u001b[1;32melse\u001b[0m\u001b[1;33m:\u001b[0m\u001b[1;33m\u001b[0m\u001b[1;33m\u001b[0m\u001b[0m\n\u001b[0;32m     13\u001b[0m         \u001b[0mbackground\u001b[0m\u001b[1;33m(\u001b[0m\u001b[1;36m0\u001b[0m\u001b[1;33m,\u001b[0m\u001b[1;36m0\u001b[0m\u001b[1;33m,\u001b[0m\u001b[1;36m255\u001b[0m\u001b[1;33m)\u001b[0m \u001b[1;31m# fond bleu\u001b[0m\u001b[1;33m\u001b[0m\u001b[1;33m\u001b[0m\u001b[0m\n\u001b[1;32m---> 14\u001b[1;33m \u001b[0mrun\u001b[0m\u001b[1;33m(\u001b[0m\u001b[1;33m)\u001b[0m\u001b[1;33m\u001b[0m\u001b[1;33m\u001b[0m\u001b[0m\n\u001b[0m",
      "\u001b[1;32m~\\Anaconda3\\lib\\site-packages\\p5\\sketch\\userspace.py\u001b[0m in \u001b[0;36mrun\u001b[1;34m(sketch_setup, sketch_draw, frame_rate, mode, renderer)\u001b[0m\n\u001b[0;32m    165\u001b[0m \u001b[1;33m\u001b[0m\u001b[0m\n\u001b[0;32m    166\u001b[0m     \u001b[0mapp\u001b[0m\u001b[1;33m.\u001b[0m\u001b[0mrun\u001b[0m\u001b[1;33m(\u001b[0m\u001b[1;33m)\u001b[0m\u001b[1;33m\u001b[0m\u001b[1;33m\u001b[0m\u001b[0m\n\u001b[1;32m--> 167\u001b[1;33m     \u001b[0mexit\u001b[0m\u001b[1;33m(\u001b[0m\u001b[1;33m)\u001b[0m\u001b[1;33m\u001b[0m\u001b[1;33m\u001b[0m\u001b[0m\n\u001b[0m\u001b[0;32m    168\u001b[0m \u001b[1;33m\u001b[0m\u001b[0m\n\u001b[0;32m    169\u001b[0m \u001b[1;32mdef\u001b[0m \u001b[0mtitle\u001b[0m\u001b[1;33m(\u001b[0m\u001b[0mnew_title\u001b[0m\u001b[1;33m)\u001b[0m\u001b[1;33m:\u001b[0m\u001b[1;33m\u001b[0m\u001b[1;33m\u001b[0m\u001b[0m\n",
      "\u001b[1;32m~\\Anaconda3\\lib\\site-packages\\p5\\sketch\\userspace.py\u001b[0m in \u001b[0;36mexit\u001b[1;34m(*args, **kwargs)\u001b[0m\n\u001b[0;32m    248\u001b[0m         \u001b[0mp5\u001b[0m\u001b[1;33m.\u001b[0m\u001b[0msketch\u001b[0m\u001b[1;33m.\u001b[0m\u001b[0mshow\u001b[0m\u001b[1;33m(\u001b[0m\u001b[0mvisible\u001b[0m\u001b[1;33m=\u001b[0m\u001b[1;32mFalse\u001b[0m\u001b[1;33m)\u001b[0m\u001b[1;33m\u001b[0m\u001b[1;33m\u001b[0m\u001b[0m\n\u001b[0;32m    249\u001b[0m         \u001b[0mapp\u001b[0m\u001b[1;33m.\u001b[0m\u001b[0mquit\u001b[0m\u001b[1;33m(\u001b[0m\u001b[1;33m)\u001b[0m\u001b[1;33m\u001b[0m\u001b[1;33m\u001b[0m\u001b[0m\n\u001b[1;32m--> 250\u001b[1;33m     \u001b[0mp5\u001b[0m\u001b[1;33m.\u001b[0m\u001b[0mexit\u001b[0m\u001b[1;33m(\u001b[0m\u001b[1;33m*\u001b[0m\u001b[0margs\u001b[0m\u001b[1;33m,\u001b[0m \u001b[1;33m**\u001b[0m\u001b[0mkwargs\u001b[0m\u001b[1;33m)\u001b[0m\u001b[1;33m\u001b[0m\u001b[1;33m\u001b[0m\u001b[0m\n\u001b[0m\u001b[0;32m    251\u001b[0m \u001b[1;33m\u001b[0m\u001b[0m\n\u001b[0;32m    252\u001b[0m \u001b[1;32mdef\u001b[0m \u001b[0mno_cursor\u001b[0m\u001b[1;33m(\u001b[0m\u001b[1;33m)\u001b[0m\u001b[1;33m:\u001b[0m\u001b[1;33m\u001b[0m\u001b[1;33m\u001b[0m\u001b[0m\n",
      "\u001b[1;31mAttributeError\u001b[0m: module 'p5.core.p5' has no attribute 'exit'"
     ]
    }
   ],
   "source": [
    "from p5 import *\n",
    "\n",
    "def setup():\n",
    "    createCanvas(200,200) # crée une fenêtre de 200 x 200 pixels\n",
    "\n",
    "def draw():# cette fonction s'exécute  en boucle 60 fois par seconde...\n",
    "    # les conditions pour la couleur du fond d'écran\n",
    "    if mouseX > 0 and mouseX < 100: # teste la position (abscisse) de la souris sur la moité gauche (0 à 100)\n",
    "        background(255,120,0) # \n",
    "    elif mouseX > 100 and mouseX < 200:# teste la position (abscisse) de la souris sur la moité droite (100 à 200)\n",
    "        background(0,255,120) #\n",
    "    else:\n",
    "        background(0,0,255) # fond bleu\n",
    "run()"
   ]
  },
  {
   "cell_type": "markdown",
   "metadata": {},
   "source": [
    "### Exercice 2\n",
    "\n",
    "Reprendre le code précédent(copier-coller) et en utilisant les instructions **mouseX** et **mouseY** (qui renvoie  abscisse et ordonnée de la souris), faites en sorte qu'il y ait 4 couleurs différentes qui s'affichent suivant la position de la souris dans les quadrants:\n",
    "\n",
    "0 < mouseX <100 et 0< mouseY < 100\n",
    "\n",
    "100 < mouseX < 200  et 0< mouseY < 100\n",
    "\n",
    "0 < mouseX < 100  et 100< mouseY < 200\n",
    "\n",
    "100 < mouseX < 200  et 100< mouseY < 200"
   ]
  },
  {
   "cell_type": "code",
   "execution_count": null,
   "metadata": {},
   "outputs": [],
   "source": [
    "# code ici"
   ]
  },
  {
   "cell_type": "markdown",
   "metadata": {},
   "source": [
    "## Repérage dans la fenêtre\n",
    "\n",
    "Quand on travaille en 2 dimensions (2D), on utilise deux axes de coordonnées x et y correspondant respectivement à la largeur (axe horizontal) et à la hauteur (axe vertical).\n",
    "\n",
    "Par convention, le coin en haut à gauche du canvas correspond aux valeurs x=0 et y=0. Les valeurs x sont croissantes vers la droite et les valeurs y sont croissantes vers le bas, contrairement à notre habitude en mathématique.\n",
    "\n",
    "Ces valeurs x et y peuvent s'étendre théoriquement à l'infini, même si, en réalité, cela dépendra des dimensions de l’écran de l’ordinateur.\n",
    "\n",
    "<img src=\"https://isn-icn-ljm.pagesperso-orange.fr/TP-en-ligne/images/canvas1.png\" width=\"600px\">"
   ]
  },
  {
   "cell_type": "markdown",
   "metadata": {},
   "source": [
    "### Exercice 3\n",
    "\n",
    "Dans le code suivant on affiche dans la fenêtre 4 cercles et la couleur de fond change si la souris survole l'un des cercles.\n",
    "\n",
    "l'instruction **circle(50,50,40)** dessine un cercle de centre (50,50 ) et de diamètre 40.\n",
    "\n",
    "l'instruction **dist(x1,y1,x2,y2)** calcule la distance entre les points de coordonnées (x1,y1) et (x2,y2).\n",
    "\n",
    "**dist(mouseX,mouseY,50,50) < 20** teste si la souris est dans l'un des cercles.\n",
    "\n",
    "***Faire en sorte que le fond change de couleur au survol des 4 cercles.***"
   ]
  },
  {
   "cell_type": "code",
   "execution_count": null,
   "metadata": {},
   "outputs": [],
   "source": [
    "from p5 import *\n",
    "\n",
    "def setup():\n",
    "    createCanvas(200,200) # crée une fenêtre de 200 x 200 pixels\n",
    "\n",
    "def draw():# cette fonction s'exécute  en boucle 60 fois par seconde...\n",
    "    if dist(mouseX,mouseY,50,50) < 20:\n",
    "        background(255,255,0)\n",
    "    # à modifier ici\n",
    "    else:\n",
    "        background(51,51,51)\n",
    "    # ne pas modifier...\n",
    "    fill(0,0,0)\n",
    "    circle(50,50,40)\n",
    "    circle(150,150,40)\n",
    "    circle(150,50,40)\n",
    "    circle(50,150,40)\n",
    "    \n",
    "run()"
   ]
  },
  {
   "cell_type": "markdown",
   "metadata": {},
   "source": [
    "### Exercice 4\n",
    "\n",
    "le code ci-dessous montre \"une balle\" se déplaçant sur un axe horizontal dans une fenêtre en rebondissant sur les bords.\n",
    "\n",
    "***Faire en sorte qu'elle se déplace aussi dans la verticale en rebondissant sur les bords inférieur et supérieur de la fenêtre.***\n"
   ]
  },
  {
   "cell_type": "code",
   "execution_count": null,
   "metadata": {},
   "outputs": [],
   "source": [
    "from p5 import *\n",
    "\n",
    "def setup():\n",
    "    global bx,by,vx,vy,r\n",
    "    r = 20\n",
    "    bx = 50\n",
    "    by = 50\n",
    "    vx = 4\n",
    "    vy = 5\n",
    "    createCanvas(400,200) # crée une fenêtre de 200 x 200 pixels\n",
    "\n",
    "def draw():# cette fonction s'exécute  en boucle 60 fois par seconde...\n",
    "    global bx,by,vx,vy,r\n",
    "    background(0,0,0)# fond noir\n",
    "    # mouvement du cercle sur l'axe horizontal\n",
    "    bx = bx + vx\n",
    "    # rebond sur les bords gauche et droit\n",
    "    if bx < r or bx > 400 - r:\n",
    "        vx = -vx\n",
    "    # dessin du cercle\n",
    "    fill(255,0,0)\n",
    "    circle(bx,by,2*r)    \n",
    "    \n",
    "run()"
   ]
  },
  {
   "cell_type": "markdown",
   "metadata": {},
   "source": [
    "### Exercice 5\n",
    "\n",
    "**Reprendre le code précédent et faire en sorte que la \"balle\" change de couleur à chaque rebond**\n",
    "\n",
    "Pour utiliser une couleur aléatoire, on pourra utiliser l'instruction:\n",
    "\n",
    "**fill(random(255),random(255),random(255))**"
   ]
  },
  {
   "cell_type": "code",
   "execution_count": null,
   "metadata": {},
   "outputs": [],
   "source": [
    "# le code ici"
   ]
  },
  {
   "cell_type": "code",
   "execution_count": null,
   "metadata": {},
   "outputs": [],
   "source": []
  }
 ],
 "metadata": {
  "kernelspec": {
   "display_name": "Python 3",
   "language": "python",
   "name": "python3"
  },
  "language_info": {
   "codemirror_mode": {
    "name": "ipython",
    "version": 3
   },
   "file_extension": ".py",
   "mimetype": "text/x-python",
   "name": "python",
   "nbconvert_exporter": "python",
   "pygments_lexer": "ipython3",
   "version": "3.8.5"
  }
 },
 "nbformat": 4,
 "nbformat_minor": 2
}