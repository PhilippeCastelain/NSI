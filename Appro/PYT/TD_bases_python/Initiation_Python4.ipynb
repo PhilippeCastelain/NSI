{
 "cells": [
  {
   "cell_type": "markdown",
   "metadata": {},
   "source": [
    "# Programmation Python - 4\n",
    "\n",
    "## Les fonctions\n",
    "\n",
    "\n",
    "Une fonction permet de délocaliser une partie de code et éventuellement de la réutiliser\n",
    "\n",
    "**Syntaxe**\n",
    "\n",
    "En général, une fonction reçoit des données en paramètres (mais ce n'est pas toujpours le cas) en renvoie des données et là aussi ce n'est pas toujours le cas<br>\n",
    "\n",
    "```py\n",
    "def ma_fonction(parametre1,parametre2,...):\n",
    "    instructions\n",
    "    return resultat\n",
    "```\n",
    "Pour utiliser une fonction, il faut l'appeler.\n",
    "\n",
    "```py\n",
    "print(ma_fonction(a,b,...))\n",
    "# affiche le résultat de la fonction\n",
    "```\n",
    "\n",
    "**Exemple**"
   ]
  },
  {
   "cell_type": "code",
   "execution_count": 2,
   "metadata": {},
   "outputs": [
    {
     "name": "stdout",
     "output_type": "stream",
     "text": [
      "12\n"
     ]
    }
   ],
   "source": [
    "# fonction qui renvoie le plus grand de 2 nombres passés en paramètres\n",
    "def plus_grand2(a,b):\n",
    "    if a > b:\n",
    "        return a\n",
    "    else:\n",
    "        return b\n",
    "    \n",
    "print(plus_grand2(7,12))"
   ]
  },
  {
   "cell_type": "markdown",
   "metadata": {},
   "source": [
    "## Exercices niveau 1\n",
    "\n",
    "* Écrire une fonction plus_petit qui prend en paramètres deux nombres et qui renvoie le plus petit.\n",
    "* Écrire une fonction plus_grand3 qui prend en paramètres trois nombres et qui renvoie le plus grand.\n",
    "* Écrire une fonction plus_petit3 qui prend en paramètres trois nombres et qui renvoie le plus petit.\n",
    "* Écrire une fonction plus_grand4 qui prend en paramètres quatre nombres et qui renvoie le plus grand.\n",
    "* Écrire une fonction somme2 qui prend en paramètres deux nombres et qui renvoie leur somme.\n",
    "* Écrire une fonction somme3 qui prend en paramètres trois nombres et qui renvoie leur somme."
   ]
  },
  {
   "cell_type": "code",
   "execution_count": null,
   "metadata": {},
   "outputs": [],
   "source": [
    "# code ici"
   ]
  },
  {
   "cell_type": "code",
   "execution_count": null,
   "metadata": {},
   "outputs": [],
   "source": [
    "# code ici"
   ]
  },
  {
   "cell_type": "code",
   "execution_count": null,
   "metadata": {},
   "outputs": [],
   "source": [
    "# code ici"
   ]
  },
  {
   "cell_type": "code",
   "execution_count": null,
   "metadata": {},
   "outputs": [],
   "source": [
    "# code ici"
   ]
  },
  {
   "cell_type": "code",
   "execution_count": null,
   "metadata": {},
   "outputs": [],
   "source": [
    "# code ici"
   ]
  },
  {
   "cell_type": "code",
   "execution_count": null,
   "metadata": {},
   "outputs": [],
   "source": [
    "# code ici"
   ]
  },
  {
   "cell_type": "markdown",
   "metadata": {},
   "source": [
    "## Exercices niveau 2\n",
    "\n",
    "* Écrire une fonction somme_n qui prend en paramètre un entier n et qui renvoie $1 +2 +3+...+n$.\n",
    "* Écrire une fonction produit_n qui prend en paramètre un entier n et qui renvoie $1 \\times2 \\times3\\times...\\times n$.\n",
    "* Écrire une fonction est_pair qui prend en paramètre un entier n et qui renvoie True si il est pair et False sinon.\n",
    "* Écrire une fonction est_impair qui prend en paramètre un entier n et qui renvoie True si il est impair et False sinon.\n",
    "* Écrire une fonction est_diviseur qui prend en paramètre un entier n et un entier a et qui renvoie True a est un diviseur de n et False sinon.\n",
    "* Écrire une fonction table_multiplication qui prend en paramètre un entier n et qui affiche la table de multiplication de n jusqu'à 10. (on utilise print à la place de return)\n",
    "* Écrire une fonction diviseurs qui prend en paramètre un entier et qui affiche ses diviseurs."
   ]
  },
  {
   "cell_type": "code",
   "execution_count": null,
   "metadata": {},
   "outputs": [],
   "source": [
    "# code ici"
   ]
  },
  {
   "cell_type": "code",
   "execution_count": null,
   "metadata": {},
   "outputs": [],
   "source": [
    "# code ici"
   ]
  },
  {
   "cell_type": "code",
   "execution_count": null,
   "metadata": {},
   "outputs": [],
   "source": [
    "# code ici"
   ]
  },
  {
   "cell_type": "code",
   "execution_count": null,
   "metadata": {},
   "outputs": [],
   "source": [
    "# code ici"
   ]
  },
  {
   "cell_type": "code",
   "execution_count": null,
   "metadata": {},
   "outputs": [],
   "source": [
    "# code ici"
   ]
  },
  {
   "cell_type": "code",
   "execution_count": null,
   "metadata": {},
   "outputs": [],
   "source": [
    "# code ici"
   ]
  },
  {
   "cell_type": "code",
   "execution_count": null,
   "metadata": {},
   "outputs": [],
   "source": [
    "# code ici"
   ]
  },
  {
   "cell_type": "markdown",
   "metadata": {},
   "source": [
    "## Exercices niveau 3\n",
    "\n",
    "### Ex1\n",
    "\n",
    "Voici une fonction qui prend en paramètre un entier naturel et qui renvoie la somme de ses chiffres:<br>\n",
    "\n",
    "```py\n",
    "def somme_chiffre(n):\n",
    "    s = 0\n",
    "    while n > 0:\n",
    "        s = s + n%10\n",
    "        n = n//10\n",
    "    return s\n",
    "```\n",
    "\n",
    "Un nombre Harshad, ou nombre de Niven, ou nombre multinumérique est un entier naturel qui est divisible par la somme de ses chiffres.\n",
    "\n",
    "**Par exemple** : 777 est l'un de ces nombres<br>\n",
    "$7+7+7=21$ et $\\dfrac{777}{21}=37$\n",
    "\n",
    "Écrire une fonction harshad qui prend en paramère un entier et qui affiche tous les nombres harshad inférieur à cet entier"
   ]
  },
  {
   "cell_type": "code",
   "execution_count": null,
   "metadata": {
    "scrolled": false
   },
   "outputs": [],
   "source": []
  },
  {
   "cell_type": "code",
   "execution_count": null,
   "metadata": {
    "scrolled": true
   },
   "outputs": [],
   "source": []
  },
  {
   "cell_type": "markdown",
   "metadata": {},
   "source": [
    "### Ex2\n",
    "\n",
    "Un nombre SP est un nombre égal au résultat du produit $S\\times P$ où S est la somme des chiffres du nombre et P le produit des chiffres du nombre.\n",
    "\n",
    "**Par exemple** : $135$ est un nombre SP<br>\n",
    "$S=1+3+5=9$  et $P=1\\times3\\times5=15$ <br>\n",
    "$9\\times15=135$\n",
    "\n",
    "Voici une fonction qui prend en paramètre un entier naturel et qui renvoie le produit de ses chiffres:<br>\n",
    "\n",
    "```py\n",
    "def produit_chiffre(n):\n",
    "    p = 1\n",
    "    while n > 0:\n",
    "        p = p*(n%10)\n",
    "        n = n//10\n",
    "    return p\n",
    "```\n",
    "\n",
    "Écrire une fonction SP qui prend en paramère un entier et qui affiche tous les nombres SP inférieur à cet entier.<br>\n",
    "***il n'y en a que 4 ...***"
   ]
  },
  {
   "cell_type": "code",
   "execution_count": null,
   "metadata": {},
   "outputs": [],
   "source": [
    "# code ici"
   ]
  },
  {
   "cell_type": "markdown",
   "metadata": {},
   "source": [
    "### EX3\n",
    "\n",
    "Écrire une fonction qui affiche tous les nombres  dont le produit des chiffres est divisible par la somme des chiffres et inférieurs à un entier n passé en paramètre.<br>\n",
    "**Exemple** : $527$ est l'un de ces nombres<br>\n",
    "$\\dfrac{5\\times2\\times7}{5+2+7}=\\dfrac{70}{14}=5$"
   ]
  },
  {
   "cell_type": "code",
   "execution_count": null,
   "metadata": {},
   "outputs": [],
   "source": [
    "# code ici\n"
   ]
  },
  {
   "cell_type": "markdown",
   "metadata": {},
   "source": [
    "### EX4\n",
    "\n",
    "Écrire une fonction multiplication qui prend en paramètre deux entiers relatifs et qui renvoie leur produit en n'utilisant que des additions ou des soustractions.<br>\n",
    "**Exemple** : $7 \\times(-5)=-(7 + 7 + 7+7+7)$<br>"
   ]
  },
  {
   "cell_type": "code",
   "execution_count": null,
   "metadata": {},
   "outputs": [],
   "source": [
    "# code ici"
   ]
  },
  {
   "cell_type": "markdown",
   "metadata": {},
   "source": [
    "### EX5\n",
    " Pour valider un code d'entrée de 5 chiffres ( ne commençant pas par 0), on utilise la technique suivante:\n",
    " * On calcule la somme des 4 1er chiffres et on continue avec le résultat tant qu'il est supérieur à 10\n",
    "     * Si le résultat est égal au 5ème chiffre, le code est valide.\n",
    "     * Sinon le code est invalide\n",
    "     \n",
    "\n",
    "**Exemple** : <br>\n",
    "99999 ---> 9+9+9+9 = 36 ---> 6+3 =9 qui est égal au 5ème chiffre (code valide)<br>\n",
    "10013 ---> 1+0+0+1 = 2  qui n'est pas égal à 3 (code invalide)\n",
    "\n",
    "Écrire une fonction valider qui prend en paramètre un nombre de 5 chiffres et renvoie True si le code est valide et False sinon"
   ]
  },
  {
   "cell_type": "code",
   "execution_count": null,
   "metadata": {},
   "outputs": [],
   "source": [
    "# code ici"
   ]
  },
  {
   "cell_type": "code",
   "execution_count": null,
   "metadata": {},
   "outputs": [],
   "source": []
  }
 ],
 "metadata": {
  "kernelspec": {
   "display_name": "Python 3",
   "language": "python",
   "name": "python3"
  },
  "language_info": {
   "codemirror_mode": {
    "name": "ipython",
    "version": 3
   },
   "file_extension": ".py",
   "mimetype": "text/x-python",
   "name": "python",
   "nbconvert_exporter": "python",
   "pygments_lexer": "ipython3",
   "version": "3.8.5"
  }
 },
 "nbformat": 4,
 "nbformat_minor": 2
}
